{
  "nbformat": 4,
  "nbformat_minor": 0,
  "metadata": {
    "colab": {
      "name": "Statistical Analysis On Factor Influencing Life Expectancy  .ipynb",
      "provenance": []
    },
    "kernelspec": {
      "name": "python3",
      "display_name": "Python 3"
    },
    "language_info": {
      "name": "python"
    }
  },
  "cells": [
    {
      "cell_type": "markdown",
      "metadata": {
        "id": "mpZASljiYlh2"
      },
      "source": [
        "**LIFE EXPECTANCY**\n",
        "\n",
        "THE PURPOSE OF THIS ANALYSIS IS TO EXAMINE WHETHER :\n",
        "\n",
        "1.Is there  a statistically  difference in life expectancy between the population means of developing countries versus developed countries in the year 2000 ?\n",
        "2.Is there a statistically difference in life expectancy between the population means of the years 2000 versus 2015 ?\n",
        "\n",
        "Ho: μ1 - μ2 = 0\n",
        "Ha: μ1 - μ2 ≠ 0"
      ]
    },
    {
      "cell_type": "markdown",
      "metadata": {
        "id": "Lj9iZFDcYzR0"
      },
      "source": [
        "Imports and Dataset Load"
      ]
    },
    {
      "cell_type": "code",
      "metadata": {
        "colab": {
          "base_uri": "https://localhost:8080/"
        },
        "id": "C0dhRyf8LRtT",
        "outputId": "8233e38a-1454-4b79-9ace-8906eaee18da"
      },
      "source": [
        "# To keep the page organized do all imports here\n",
        "from sqlalchemy import create_engine\n",
        "import numpy as np\n",
        "import pandas as pd\n",
        "from scipy import stats\n",
        "\n",
        "# Matplotlib for additional customization\n",
        "from matplotlib import pyplot as plt\n",
        "%matplotlib inline\n",
        "import seaborn as sns \n",
        "sns.set()\n",
        "\n",
        "# Suppress warnings (warnings do not prevent the code from executing)\n",
        "import warnings\n",
        "warnings.filterwarnings(\"ignore\")\n",
        "\n",
        "# Database credentials\n",
        "postgres_user = 'dabc_student'\n",
        "postgres_pw = '7*.8G9QH21'\n",
        "postgres_host = '142.93.121.174'\n",
        "postgres_port = '5432'\n",
        "postgres_db = 'lifeexpectancy'\n",
        "\n",
        "# Use the credentials to start a connection\n",
        "engine = create_engine('postgresql://{}:{}@{}:{}/{}'.format(\n",
        "    postgres_user, postgres_pw, postgres_host, postgres_port, postgres_db))\n",
        "life_df = pd.read_sql_table('lifeexpectancy', con=engine)\n",
        "\n",
        "# Remove the connection\n",
        "engine.dispose()\n",
        "\n",
        "# Now, quickly examine your DataFrame\n",
        "\n",
        "life_df.shape"
      ],
      "execution_count": 2,
      "outputs": [
        {
          "output_type": "execute_result",
          "data": {
            "text/plain": [
              "(2938, 22)"
            ]
          },
          "metadata": {},
          "execution_count": 2
        }
      ]
    },
    {
      "cell_type": "markdown",
      "metadata": {
        "id": "pyMxuTKEZRTP"
      },
      "source": [
        "**Section 1: Data Cleaning**"
      ]
    },
    {
      "cell_type": "code",
      "metadata": {
        "colab": {
          "base_uri": "https://localhost:8080/"
        },
        "id": "6F5sqE--ZJ8_",
        "outputId": "6e1e2f4f-da24-45c9-eec1-478cf2353ae3"
      },
      "source": [
        "life_df.info()"
      ],
      "execution_count": 3,
      "outputs": [
        {
          "output_type": "stream",
          "text": [
            "<class 'pandas.core.frame.DataFrame'>\n",
            "RangeIndex: 2938 entries, 0 to 2937\n",
            "Data columns (total 22 columns):\n",
            " #   Column                           Non-Null Count  Dtype  \n",
            "---  ------                           --------------  -----  \n",
            " 0   Country                          2938 non-null   object \n",
            " 1   Year                             2938 non-null   int64  \n",
            " 2   Status                           2938 non-null   object \n",
            " 3   Life expectancy                  2928 non-null   float64\n",
            " 4   Adult Mortality                  2928 non-null   float64\n",
            " 5   infant deaths                    2938 non-null   int64  \n",
            " 6   Alcohol                          2744 non-null   float64\n",
            " 7   percentage expenditure           2938 non-null   float64\n",
            " 8   Hepatitis B                      2385 non-null   float64\n",
            " 9   Measles                          2938 non-null   int64  \n",
            " 10   BMI                             2904 non-null   float64\n",
            " 11  under-five deaths                2938 non-null   int64  \n",
            " 12  Polio                            2919 non-null   float64\n",
            " 13  Total expenditure                2712 non-null   float64\n",
            " 14  Diphtheria                       2919 non-null   float64\n",
            " 15   HIV/AIDS                        2938 non-null   float64\n",
            " 16  GDP                              2490 non-null   float64\n",
            " 17  Population                       2286 non-null   float64\n",
            " 18   thinness  1-19 years            2904 non-null   float64\n",
            " 19   thinness 5-9 years              2904 non-null   float64\n",
            " 20  Income composition of resources  2771 non-null   float64\n",
            " 21  Schooling                        2775 non-null   float64\n",
            "dtypes: float64(16), int64(4), object(2)\n",
            "memory usage: 505.1+ KB\n"
          ],
          "name": "stdout"
        }
      ]
    },
    {
      "cell_type": "code",
      "metadata": {
        "colab": {
          "base_uri": "https://localhost:8080/",
          "height": 368
        },
        "id": "hG8lHC0BZZEs",
        "outputId": "d6c771c8-b93e-4253-8496-d65f1ffdfc1e"
      },
      "source": [
        "life_df.describe().iloc[:, 1:]"
      ],
      "execution_count": 4,
      "outputs": [
        {
          "output_type": "execute_result",
          "data": {
            "text/html": [
              "<div>\n",
              "<style scoped>\n",
              "    .dataframe tbody tr th:only-of-type {\n",
              "        vertical-align: middle;\n",
              "    }\n",
              "\n",
              "    .dataframe tbody tr th {\n",
              "        vertical-align: top;\n",
              "    }\n",
              "\n",
              "    .dataframe thead th {\n",
              "        text-align: right;\n",
              "    }\n",
              "</style>\n",
              "<table border=\"1\" class=\"dataframe\">\n",
              "  <thead>\n",
              "    <tr style=\"text-align: right;\">\n",
              "      <th></th>\n",
              "      <th>Life expectancy</th>\n",
              "      <th>Adult Mortality</th>\n",
              "      <th>infant deaths</th>\n",
              "      <th>Alcohol</th>\n",
              "      <th>percentage expenditure</th>\n",
              "      <th>Hepatitis B</th>\n",
              "      <th>Measles</th>\n",
              "      <th>BMI</th>\n",
              "      <th>under-five deaths</th>\n",
              "      <th>Polio</th>\n",
              "      <th>Total expenditure</th>\n",
              "      <th>Diphtheria</th>\n",
              "      <th>HIV/AIDS</th>\n",
              "      <th>GDP</th>\n",
              "      <th>Population</th>\n",
              "      <th>thinness  1-19 years</th>\n",
              "      <th>thinness 5-9 years</th>\n",
              "      <th>Income composition of resources</th>\n",
              "      <th>Schooling</th>\n",
              "    </tr>\n",
              "  </thead>\n",
              "  <tbody>\n",
              "    <tr>\n",
              "      <th>count</th>\n",
              "      <td>2928.000000</td>\n",
              "      <td>2928.000000</td>\n",
              "      <td>2938.000000</td>\n",
              "      <td>2744.000000</td>\n",
              "      <td>2938.000000</td>\n",
              "      <td>2385.000000</td>\n",
              "      <td>2938.000000</td>\n",
              "      <td>2904.000000</td>\n",
              "      <td>2938.000000</td>\n",
              "      <td>2919.000000</td>\n",
              "      <td>2712.00000</td>\n",
              "      <td>2919.000000</td>\n",
              "      <td>2938.000000</td>\n",
              "      <td>2490.000000</td>\n",
              "      <td>2.286000e+03</td>\n",
              "      <td>2904.000000</td>\n",
              "      <td>2904.000000</td>\n",
              "      <td>2771.000000</td>\n",
              "      <td>2775.000000</td>\n",
              "    </tr>\n",
              "    <tr>\n",
              "      <th>mean</th>\n",
              "      <td>69.224932</td>\n",
              "      <td>164.796448</td>\n",
              "      <td>30.303948</td>\n",
              "      <td>4.602861</td>\n",
              "      <td>738.251295</td>\n",
              "      <td>80.940461</td>\n",
              "      <td>2419.592240</td>\n",
              "      <td>38.321247</td>\n",
              "      <td>42.035739</td>\n",
              "      <td>82.550188</td>\n",
              "      <td>5.93819</td>\n",
              "      <td>82.324084</td>\n",
              "      <td>1.742103</td>\n",
              "      <td>7483.158469</td>\n",
              "      <td>1.275338e+07</td>\n",
              "      <td>4.839704</td>\n",
              "      <td>4.870317</td>\n",
              "      <td>0.627551</td>\n",
              "      <td>11.992793</td>\n",
              "    </tr>\n",
              "    <tr>\n",
              "      <th>std</th>\n",
              "      <td>9.523867</td>\n",
              "      <td>124.292079</td>\n",
              "      <td>117.926501</td>\n",
              "      <td>4.052413</td>\n",
              "      <td>1987.914858</td>\n",
              "      <td>25.070016</td>\n",
              "      <td>11467.272489</td>\n",
              "      <td>20.044034</td>\n",
              "      <td>160.445548</td>\n",
              "      <td>23.428046</td>\n",
              "      <td>2.49832</td>\n",
              "      <td>23.716912</td>\n",
              "      <td>5.077785</td>\n",
              "      <td>14270.169342</td>\n",
              "      <td>6.101210e+07</td>\n",
              "      <td>4.420195</td>\n",
              "      <td>4.508882</td>\n",
              "      <td>0.210904</td>\n",
              "      <td>3.358920</td>\n",
              "    </tr>\n",
              "    <tr>\n",
              "      <th>min</th>\n",
              "      <td>36.300000</td>\n",
              "      <td>1.000000</td>\n",
              "      <td>0.000000</td>\n",
              "      <td>0.010000</td>\n",
              "      <td>0.000000</td>\n",
              "      <td>1.000000</td>\n",
              "      <td>0.000000</td>\n",
              "      <td>1.000000</td>\n",
              "      <td>0.000000</td>\n",
              "      <td>3.000000</td>\n",
              "      <td>0.37000</td>\n",
              "      <td>2.000000</td>\n",
              "      <td>0.100000</td>\n",
              "      <td>1.681350</td>\n",
              "      <td>3.400000e+01</td>\n",
              "      <td>0.100000</td>\n",
              "      <td>0.100000</td>\n",
              "      <td>0.000000</td>\n",
              "      <td>0.000000</td>\n",
              "    </tr>\n",
              "    <tr>\n",
              "      <th>25%</th>\n",
              "      <td>63.100000</td>\n",
              "      <td>74.000000</td>\n",
              "      <td>0.000000</td>\n",
              "      <td>0.877500</td>\n",
              "      <td>4.685343</td>\n",
              "      <td>77.000000</td>\n",
              "      <td>0.000000</td>\n",
              "      <td>19.300000</td>\n",
              "      <td>0.000000</td>\n",
              "      <td>78.000000</td>\n",
              "      <td>4.26000</td>\n",
              "      <td>78.000000</td>\n",
              "      <td>0.100000</td>\n",
              "      <td>463.935626</td>\n",
              "      <td>1.957932e+05</td>\n",
              "      <td>1.600000</td>\n",
              "      <td>1.500000</td>\n",
              "      <td>0.493000</td>\n",
              "      <td>10.100000</td>\n",
              "    </tr>\n",
              "    <tr>\n",
              "      <th>50%</th>\n",
              "      <td>72.100000</td>\n",
              "      <td>144.000000</td>\n",
              "      <td>3.000000</td>\n",
              "      <td>3.755000</td>\n",
              "      <td>64.912906</td>\n",
              "      <td>92.000000</td>\n",
              "      <td>17.000000</td>\n",
              "      <td>43.500000</td>\n",
              "      <td>4.000000</td>\n",
              "      <td>93.000000</td>\n",
              "      <td>5.75500</td>\n",
              "      <td>93.000000</td>\n",
              "      <td>0.100000</td>\n",
              "      <td>1766.947595</td>\n",
              "      <td>1.386542e+06</td>\n",
              "      <td>3.300000</td>\n",
              "      <td>3.300000</td>\n",
              "      <td>0.677000</td>\n",
              "      <td>12.300000</td>\n",
              "    </tr>\n",
              "    <tr>\n",
              "      <th>75%</th>\n",
              "      <td>75.700000</td>\n",
              "      <td>228.000000</td>\n",
              "      <td>22.000000</td>\n",
              "      <td>7.702500</td>\n",
              "      <td>441.534144</td>\n",
              "      <td>97.000000</td>\n",
              "      <td>360.250000</td>\n",
              "      <td>56.200000</td>\n",
              "      <td>28.000000</td>\n",
              "      <td>97.000000</td>\n",
              "      <td>7.49250</td>\n",
              "      <td>97.000000</td>\n",
              "      <td>0.800000</td>\n",
              "      <td>5910.806335</td>\n",
              "      <td>7.420359e+06</td>\n",
              "      <td>7.200000</td>\n",
              "      <td>7.200000</td>\n",
              "      <td>0.779000</td>\n",
              "      <td>14.300000</td>\n",
              "    </tr>\n",
              "    <tr>\n",
              "      <th>max</th>\n",
              "      <td>89.000000</td>\n",
              "      <td>723.000000</td>\n",
              "      <td>1800.000000</td>\n",
              "      <td>17.870000</td>\n",
              "      <td>19479.911610</td>\n",
              "      <td>99.000000</td>\n",
              "      <td>212183.000000</td>\n",
              "      <td>87.300000</td>\n",
              "      <td>2500.000000</td>\n",
              "      <td>99.000000</td>\n",
              "      <td>17.60000</td>\n",
              "      <td>99.000000</td>\n",
              "      <td>50.600000</td>\n",
              "      <td>119172.741800</td>\n",
              "      <td>1.293859e+09</td>\n",
              "      <td>27.700000</td>\n",
              "      <td>28.600000</td>\n",
              "      <td>0.948000</td>\n",
              "      <td>20.700000</td>\n",
              "    </tr>\n",
              "  </tbody>\n",
              "</table>\n",
              "</div>"
            ],
            "text/plain": [
              "       Life expectancy   ...    Schooling\n",
              "count       2928.000000  ...  2775.000000\n",
              "mean          69.224932  ...    11.992793\n",
              "std            9.523867  ...     3.358920\n",
              "min           36.300000  ...     0.000000\n",
              "25%           63.100000  ...    10.100000\n",
              "50%           72.100000  ...    12.300000\n",
              "75%           75.700000  ...    14.300000\n",
              "max           89.000000  ...    20.700000\n",
              "\n",
              "[8 rows x 19 columns]"
            ]
          },
          "metadata": {},
          "execution_count": 4
        }
      ]
    },
    {
      "cell_type": "code",
      "metadata": {
        "colab": {
          "base_uri": "https://localhost:8080/",
          "height": 238
        },
        "id": "0of3fzjpZe1_",
        "outputId": "451a72b8-7dd4-41c3-dc36-ae6269c642f6"
      },
      "source": [
        "life_df.head()"
      ],
      "execution_count": 5,
      "outputs": [
        {
          "output_type": "execute_result",
          "data": {
            "text/html": [
              "<div>\n",
              "<style scoped>\n",
              "    .dataframe tbody tr th:only-of-type {\n",
              "        vertical-align: middle;\n",
              "    }\n",
              "\n",
              "    .dataframe tbody tr th {\n",
              "        vertical-align: top;\n",
              "    }\n",
              "\n",
              "    .dataframe thead th {\n",
              "        text-align: right;\n",
              "    }\n",
              "</style>\n",
              "<table border=\"1\" class=\"dataframe\">\n",
              "  <thead>\n",
              "    <tr style=\"text-align: right;\">\n",
              "      <th></th>\n",
              "      <th>Country</th>\n",
              "      <th>Year</th>\n",
              "      <th>Status</th>\n",
              "      <th>Life expectancy</th>\n",
              "      <th>Adult Mortality</th>\n",
              "      <th>infant deaths</th>\n",
              "      <th>Alcohol</th>\n",
              "      <th>percentage expenditure</th>\n",
              "      <th>Hepatitis B</th>\n",
              "      <th>Measles</th>\n",
              "      <th>BMI</th>\n",
              "      <th>under-five deaths</th>\n",
              "      <th>Polio</th>\n",
              "      <th>Total expenditure</th>\n",
              "      <th>Diphtheria</th>\n",
              "      <th>HIV/AIDS</th>\n",
              "      <th>GDP</th>\n",
              "      <th>Population</th>\n",
              "      <th>thinness  1-19 years</th>\n",
              "      <th>thinness 5-9 years</th>\n",
              "      <th>Income composition of resources</th>\n",
              "      <th>Schooling</th>\n",
              "    </tr>\n",
              "  </thead>\n",
              "  <tbody>\n",
              "    <tr>\n",
              "      <th>0</th>\n",
              "      <td>Afghanistan</td>\n",
              "      <td>2015</td>\n",
              "      <td>Developing</td>\n",
              "      <td>65.0</td>\n",
              "      <td>263.0</td>\n",
              "      <td>62</td>\n",
              "      <td>0.01</td>\n",
              "      <td>71.279624</td>\n",
              "      <td>65.0</td>\n",
              "      <td>1154</td>\n",
              "      <td>19.1</td>\n",
              "      <td>83</td>\n",
              "      <td>6.0</td>\n",
              "      <td>8.16</td>\n",
              "      <td>65.0</td>\n",
              "      <td>0.1</td>\n",
              "      <td>584.259210</td>\n",
              "      <td>33736494.0</td>\n",
              "      <td>17.2</td>\n",
              "      <td>17.3</td>\n",
              "      <td>0.479</td>\n",
              "      <td>10.1</td>\n",
              "    </tr>\n",
              "    <tr>\n",
              "      <th>1</th>\n",
              "      <td>Afghanistan</td>\n",
              "      <td>2014</td>\n",
              "      <td>Developing</td>\n",
              "      <td>59.9</td>\n",
              "      <td>271.0</td>\n",
              "      <td>64</td>\n",
              "      <td>0.01</td>\n",
              "      <td>73.523582</td>\n",
              "      <td>62.0</td>\n",
              "      <td>492</td>\n",
              "      <td>18.6</td>\n",
              "      <td>86</td>\n",
              "      <td>58.0</td>\n",
              "      <td>8.18</td>\n",
              "      <td>62.0</td>\n",
              "      <td>0.1</td>\n",
              "      <td>612.696514</td>\n",
              "      <td>327582.0</td>\n",
              "      <td>17.5</td>\n",
              "      <td>17.5</td>\n",
              "      <td>0.476</td>\n",
              "      <td>10.0</td>\n",
              "    </tr>\n",
              "    <tr>\n",
              "      <th>2</th>\n",
              "      <td>Afghanistan</td>\n",
              "      <td>2013</td>\n",
              "      <td>Developing</td>\n",
              "      <td>59.9</td>\n",
              "      <td>268.0</td>\n",
              "      <td>66</td>\n",
              "      <td>0.01</td>\n",
              "      <td>73.219243</td>\n",
              "      <td>64.0</td>\n",
              "      <td>430</td>\n",
              "      <td>18.1</td>\n",
              "      <td>89</td>\n",
              "      <td>62.0</td>\n",
              "      <td>8.13</td>\n",
              "      <td>64.0</td>\n",
              "      <td>0.1</td>\n",
              "      <td>631.744976</td>\n",
              "      <td>31731688.0</td>\n",
              "      <td>17.7</td>\n",
              "      <td>17.7</td>\n",
              "      <td>0.470</td>\n",
              "      <td>9.9</td>\n",
              "    </tr>\n",
              "    <tr>\n",
              "      <th>3</th>\n",
              "      <td>Afghanistan</td>\n",
              "      <td>2012</td>\n",
              "      <td>Developing</td>\n",
              "      <td>59.5</td>\n",
              "      <td>272.0</td>\n",
              "      <td>69</td>\n",
              "      <td>0.01</td>\n",
              "      <td>78.184215</td>\n",
              "      <td>67.0</td>\n",
              "      <td>2787</td>\n",
              "      <td>17.6</td>\n",
              "      <td>93</td>\n",
              "      <td>67.0</td>\n",
              "      <td>8.52</td>\n",
              "      <td>67.0</td>\n",
              "      <td>0.1</td>\n",
              "      <td>669.959000</td>\n",
              "      <td>3696958.0</td>\n",
              "      <td>17.9</td>\n",
              "      <td>18.0</td>\n",
              "      <td>0.463</td>\n",
              "      <td>9.8</td>\n",
              "    </tr>\n",
              "    <tr>\n",
              "      <th>4</th>\n",
              "      <td>Afghanistan</td>\n",
              "      <td>2011</td>\n",
              "      <td>Developing</td>\n",
              "      <td>59.2</td>\n",
              "      <td>275.0</td>\n",
              "      <td>71</td>\n",
              "      <td>0.01</td>\n",
              "      <td>7.097109</td>\n",
              "      <td>68.0</td>\n",
              "      <td>3013</td>\n",
              "      <td>17.2</td>\n",
              "      <td>97</td>\n",
              "      <td>68.0</td>\n",
              "      <td>7.87</td>\n",
              "      <td>68.0</td>\n",
              "      <td>0.1</td>\n",
              "      <td>63.537231</td>\n",
              "      <td>2978599.0</td>\n",
              "      <td>18.2</td>\n",
              "      <td>18.2</td>\n",
              "      <td>0.454</td>\n",
              "      <td>9.5</td>\n",
              "    </tr>\n",
              "  </tbody>\n",
              "</table>\n",
              "</div>"
            ],
            "text/plain": [
              "       Country  Year  ... Income composition of resources  Schooling\n",
              "0  Afghanistan  2015  ...                           0.479       10.1\n",
              "1  Afghanistan  2014  ...                           0.476       10.0\n",
              "2  Afghanistan  2013  ...                           0.470        9.9\n",
              "3  Afghanistan  2012  ...                           0.463        9.8\n",
              "4  Afghanistan  2011  ...                           0.454        9.5\n",
              "\n",
              "[5 rows x 22 columns]"
            ]
          },
          "metadata": {},
          "execution_count": 5
        }
      ]
    },
    {
      "cell_type": "code",
      "metadata": {
        "colab": {
          "base_uri": "https://localhost:8080/"
        },
        "id": "yF2K13z3Zn1e",
        "outputId": "190462da-9b99-44f6-f552-7caec8bc541b"
      },
      "source": [
        "# finding the sum of nulls values for each variable \n",
        "life_df.isnull().sum()"
      ],
      "execution_count": null,
      "outputs": [
        {
          "output_type": "execute_result",
          "data": {
            "text/plain": [
              "Country                              0\n",
              "Year                                 0\n",
              "Status                               0\n",
              "Life expectancy                     10\n",
              "Adult Mortality                     10\n",
              "infant deaths                        0\n",
              "Alcohol                            194\n",
              "percentage expenditure               0\n",
              "Hepatitis B                        553\n",
              "Measles                              0\n",
              " BMI                                34\n",
              "under-five deaths                    0\n",
              "Polio                               19\n",
              "Total expenditure                  226\n",
              "Diphtheria                          19\n",
              " HIV/AIDS                            0\n",
              "GDP                                448\n",
              "Population                         652\n",
              " thinness  1-19 years               34\n",
              " thinness 5-9 years                 34\n",
              "Income composition of resources    167\n",
              "Schooling                          163\n",
              "dtype: int64"
            ]
          },
          "metadata": {},
          "execution_count": 5
        }
      ]
    },
    {
      "cell_type": "code",
      "metadata": {
        "colab": {
          "base_uri": "https://localhost:8080/"
        },
        "id": "nW9JE5_AZtXU",
        "outputId": "1cb48f74-42bc-4959-cc48-ef7992d8cef4"
      },
      "source": [
        "# Drop 'NaN' rows in variable Life expectacy\n",
        "life_df =life_df.dropna(subset = [\"Life expectancy \"])\n",
        "life_df.shape"
      ],
      "execution_count": null,
      "outputs": [
        {
          "output_type": "execute_result",
          "data": {
            "text/plain": [
              "(2928, 22)"
            ]
          },
          "metadata": {},
          "execution_count": 6
        }
      ]
    },
    {
      "cell_type": "markdown",
      "metadata": {
        "id": "2Vt7PiRNaiMy"
      },
      "source": [
        "Now that NaN rows in variable life expectancy have been dealt with, the data cleaning section is complete.\n",
        "\n"
      ]
    },
    {
      "cell_type": "markdown",
      "metadata": {
        "id": "FNYVIeCXbFqz"
      },
      "source": [
        "**Section 2:** **statistical significance tests**.\n",
        "Hypothesis 1:\n",
        "Is there  a statistically  difference in life expectancy between the population means of developing countries versus developed countries in the year 2000 ?"
      ]
    },
    {
      "cell_type": "code",
      "metadata": {
        "id": "OhSwiyNFaspJ"
      },
      "source": [
        "life_df_2000 = life_df[life_df['Year'] == 2000]"
      ],
      "execution_count": null,
      "outputs": []
    },
    {
      "cell_type": "code",
      "metadata": {
        "colab": {
          "base_uri": "https://localhost:8080/",
          "height": 302
        },
        "id": "x9OhWvCEbog9",
        "outputId": "0d6ca906-6358-4658-dcf9-2513c72828d2"
      },
      "source": [
        "# Show the count for this column\n",
        "sns.countplot(x= 'Status', data= life_df_2000)"
      ],
      "execution_count": null,
      "outputs": [
        {
          "output_type": "execute_result",
          "data": {
            "text/plain": [
              "<matplotlib.axes._subplots.AxesSubplot at 0x7f0d4e884b50>"
            ]
          },
          "metadata": {},
          "execution_count": 8
        },
        {
          "output_type": "display_data",
          "data": {
            "image/png": "[encoded data removed]",
            "text/plain": [
              "<Figure size 432x288 with 1 Axes>"
            ]
          },
          "metadata": {
            "needs_background": "light"
          }
        }
      ]
    },
    {
      "cell_type": "code",
      "metadata": {
        "id": "y55QN2EwbwXv"
      },
      "source": [
        "# Determine the range of values and the type of distribution of the numbers.\n",
        "# Write a function that will print these details for a given Series.\n",
        "def series_statistics(column):\n",
        "  print('statistics for column: {}'.format(column.name))\n",
        "  print('The max value in the column: {}'.format(column.max()))\n",
        "  print('The min value in the column: {}'.format(column.min()))\n",
        "  print('The mode value in the column: {}'.format(column.mode()))\n",
        "  print('The median value in the column: {}'.format(column.median()))\n",
        "  print('The mean of the column: {}'.format(column.mean()))\n",
        "  print('The std of the column: {}'.format(column.std()))"
      ],
      "execution_count": null,
      "outputs": []
    },
    {
      "cell_type": "code",
      "metadata": {
        "colab": {
          "base_uri": "https://localhost:8080/"
        },
        "id": "IbRoZhRCb7J7",
        "outputId": "475624fc-a277-48e3-cc01-cef8642ed9c8"
      },
      "source": [
        "series_statistics(life_df['Life expectancy '])"
      ],
      "execution_count": null,
      "outputs": [
        {
          "output_type": "stream",
          "text": [
            "statistics for column: Life expectancy \n",
            "The max value in the column: 89.0\n",
            "The min value in the column: 36.3\n",
            "The mode value in the column: 0    73.0\n",
            "dtype: float64\n",
            "The median value in the column: 72.1\n",
            "The mean of the column: 69.22493169398912\n",
            "The std of the column: 9.523867487824278\n"
          ],
          "name": "stdout"
        }
      ]
    },
    {
      "cell_type": "code",
      "metadata": {
        "colab": {
          "base_uri": "https://localhost:8080/"
        },
        "id": "EUDvtRfpcLKr",
        "outputId": "4d630127-fee6-4fe9-c899-f474ad16ae6d"
      },
      "source": [
        "#  Describe the range of life expectancy\n",
        "\n",
        "# best to use the built in .describe().\n",
        "life_df['Life expectancy '].describe()"
      ],
      "execution_count": null,
      "outputs": [
        {
          "output_type": "execute_result",
          "data": {
            "text/plain": [
              "count    2928.000000\n",
              "mean       69.224932\n",
              "std         9.523867\n",
              "min        36.300000\n",
              "25%        63.100000\n",
              "50%        72.100000\n",
              "75%        75.700000\n",
              "max        89.000000\n",
              "Name: Life expectancy , dtype: float64"
            ]
          },
          "metadata": {},
          "execution_count": 11
        }
      ]
    },
    {
      "cell_type": "code",
      "metadata": {
        "colab": {
          "base_uri": "https://localhost:8080/"
        },
        "id": "USQJAV5pcOWe",
        "outputId": "c4b5ecf4-d1de-4acb-db7e-cc7d797c225e"
      },
      "source": [
        "# Is there  a statistically  difference in life expectancy between the population means of \n",
        "# developing countries versus developed countries in the year 2000 ?\n",
        "\n",
        "# First, let's see what data we have\n",
        "life_df[['Status', 'Year', 'Life expectancy ']].info()\n"
      ],
      "execution_count": null,
      "outputs": [
        {
          "output_type": "stream",
          "text": [
            "<class 'pandas.core.frame.DataFrame'>\n",
            "Int64Index: 2928 entries, 0 to 2937\n",
            "Data columns (total 3 columns):\n",
            " #   Column            Non-Null Count  Dtype  \n",
            "---  ------            --------------  -----  \n",
            " 0   Status            2928 non-null   object \n",
            " 1   Year              2928 non-null   int64  \n",
            " 2   Life expectancy   2928 non-null   float64\n",
            "dtypes: float64(1), int64(1), object(1)\n",
            "memory usage: 91.5+ KB\n"
          ],
          "name": "stdout"
        }
      ]
    },
    {
      "cell_type": "code",
      "metadata": {
        "colab": {
          "base_uri": "https://localhost:8080/"
        },
        "id": "lvgwxcY7cYk-",
        "outputId": "4039aa1a-d9a9-454d-960c-35773ff39b1e"
      },
      "source": [
        "life_expectancy_developing_2000 = life_df[(life_df['Status'] == 'Developing' ) & (life_df['Year'] == 2000) & (life_df['Life expectancy ']).values]\n",
        "life_expectancy_developing_2000.info()"
      ],
      "execution_count": null,
      "outputs": [
        {
          "output_type": "stream",
          "text": [
            "<class 'pandas.core.frame.DataFrame'>\n",
            "Int64Index: 151 entries, 15 to 2937\n",
            "Data columns (total 22 columns):\n",
            " #   Column                           Non-Null Count  Dtype  \n",
            "---  ------                           --------------  -----  \n",
            " 0   Country                          151 non-null    object \n",
            " 1   Year                             151 non-null    int64  \n",
            " 2   Status                           151 non-null    object \n",
            " 3   Life expectancy                  151 non-null    float64\n",
            " 4   Adult Mortality                  151 non-null    float64\n",
            " 5   infant deaths                    151 non-null    int64  \n",
            " 6   Alcohol                          150 non-null    float64\n",
            " 7   percentage expenditure           151 non-null    float64\n",
            " 8   Hepatitis B                      68 non-null     float64\n",
            " 9   Measles                          151 non-null    int64  \n",
            " 10   BMI                             149 non-null    float64\n",
            " 11  under-five deaths                151 non-null    int64  \n",
            " 12  Polio                            148 non-null    float64\n",
            " 13  Total expenditure                147 non-null    float64\n",
            " 14  Diphtheria                       148 non-null    float64\n",
            " 15   HIV/AIDS                        151 non-null    float64\n",
            " 16  GDP                              126 non-null    float64\n",
            " 17  Population                       117 non-null    float64\n",
            " 18   thinness  1-19 years            149 non-null    float64\n",
            " 19   thinness 5-9 years              149 non-null    float64\n",
            " 20  Income composition of resources  144 non-null    float64\n",
            " 21  Schooling                        144 non-null    float64\n",
            "dtypes: float64(16), int64(4), object(2)\n",
            "memory usage: 27.1+ KB\n"
          ],
          "name": "stdout"
        }
      ]
    },
    {
      "cell_type": "code",
      "metadata": {
        "colab": {
          "base_uri": "https://localhost:8080/"
        },
        "id": "xVpAQVTwcuXl",
        "outputId": "a465a2b9-0238-4d0b-dc36-03f7b4054f99"
      },
      "source": [
        "life_expectancy_developed_2000 = life_df[(life_df['Status'] == 'Developed' ) & (life_df['Year'] == 2000) & (life_df['Life expectancy ']).values]\n",
        "life_expectancy_developed_2000.info()"
      ],
      "execution_count": null,
      "outputs": [
        {
          "output_type": "stream",
          "text": [
            "<class 'pandas.core.frame.DataFrame'>\n",
            "Int64Index: 32 entries, 128 to 2809\n",
            "Data columns (total 22 columns):\n",
            " #   Column                           Non-Null Count  Dtype  \n",
            "---  ------                           --------------  -----  \n",
            " 0   Country                          32 non-null     object \n",
            " 1   Year                             32 non-null     int64  \n",
            " 2   Status                           32 non-null     object \n",
            " 3   Life expectancy                  32 non-null     float64\n",
            " 4   Adult Mortality                  32 non-null     float64\n",
            " 5   infant deaths                    32 non-null     int64  \n",
            " 6   Alcohol                          32 non-null     float64\n",
            " 7   percentage expenditure           32 non-null     float64\n",
            " 8   Hepatitis B                      17 non-null     float64\n",
            " 9   Measles                          32 non-null     int64  \n",
            " 10   BMI                             32 non-null     float64\n",
            " 11  under-five deaths                32 non-null     int64  \n",
            " 12  Polio                            32 non-null     float64\n",
            " 13  Total expenditure                32 non-null     float64\n",
            " 14  Diphtheria                       32 non-null     float64\n",
            " 15   HIV/AIDS                        32 non-null     float64\n",
            " 16  GDP                              28 non-null     float64\n",
            " 17  Population                       26 non-null     float64\n",
            " 18   thinness  1-19 years            32 non-null     float64\n",
            " 19   thinness 5-9 years              32 non-null     float64\n",
            " 20  Income composition of resources  29 non-null     float64\n",
            " 21  Schooling                        29 non-null     float64\n",
            "dtypes: float64(16), int64(4), object(2)\n",
            "memory usage: 5.8+ KB\n"
          ],
          "name": "stdout"
        }
      ]
    },
    {
      "cell_type": "code",
      "metadata": {
        "colab": {
          "base_uri": "https://localhost:8080/"
        },
        "id": "w6YJjCa0c4We",
        "outputId": "e69e5c53-c0d0-4611-8bef-4979466db6dc"
      },
      "source": [
        "stats.ttest_ind(life_expectancy_developing_2000['Life expectancy '], life_expectancy_developed_2000['Life expectancy '])"
      ],
      "execution_count": null,
      "outputs": [
        {
          "output_type": "execute_result",
          "data": {
            "text/plain": [
              "Ttest_indResult(statistic=-6.793134465815448, pvalue=1.5272373868268973e-10)"
            ]
          },
          "metadata": {},
          "execution_count": 15
        }
      ]
    },
    {
      "cell_type": "markdown",
      "metadata": {
        "id": "JVsZu7n1dVTd"
      },
      "source": [
        "There is a difference of 6.8 standard deviations between these two means. But is this just due to random chance, or is that difference significant? The p-value is extremely small, implying that this is a real difference.\n",
        "\n"
      ]
    },
    {
      "cell_type": "code",
      "metadata": {
        "colab": {
          "base_uri": "https://localhost:8080/",
          "height": 35
        },
        "id": "4paVaEtRdoc8",
        "outputId": "2a902608-6b73-4421-c8ef-29d7810598a9"
      },
      "source": [
        "# It's a good idea to write a function for a task that you expect to repeat.\n",
        "# Calculate the sample size, mean, and variance of each sample.\n",
        "# You will need this information to calculate standard errors.\n",
        "# Calculate the standard error and compute the confidence intervals.\n",
        "\n",
        "import math\n",
        "def get_95_ci(array_1, array_2):\n",
        "    sample_1_n = array_1.shape[0]\n",
        "    sample_2_n = array_2.shape[0]\n",
        "    sample_1_mean = array_1.mean()\n",
        "    sample_2_mean = array_2.mean()\n",
        "    sample_1_var = array_1.var()\n",
        "    sample_2_var = array_2.var()\n",
        "    mean_difference = sample_2_mean - sample_1_mean\n",
        "    std_err_difference = math.sqrt((sample_1_var/sample_1_n)+(sample_2_var/sample_2_n))\n",
        "    margin_of_error = 1.96 * std_err_difference\n",
        "    ci_lower = mean_difference - margin_of_error\n",
        "    ci_upper = mean_difference + margin_of_error\n",
        "    return(\"The difference in means at the 95% confidence interval (two-tail) is between \"+str(ci_lower)+\" and \"+str(ci_upper)+\".\")\n",
        "\n",
        "get_95_ci(life_expectancy_developing_2000['Life expectancy '], life_expectancy_developed_2000['Life expectancy '])"
      ],
      "execution_count": null,
      "outputs": [
        {
          "output_type": "execute_result",
          "data": {
            "application/vnd.google.colaboratory.intrinsic+json": {
              "type": "string"
            },
            "text/plain": [
              "'The difference in means at the 95% confidence interval (two-tail) is between 10.32000207802613 and 14.046512822636009.'"
            ]
          },
          "metadata": {},
          "execution_count": 17
        }
      ]
    },
    {
      "cell_type": "markdown",
      "metadata": {
        "id": "WzuxZOCkd9iE"
      },
      "source": [
        "Reject the null that is no difference between the population means. This difference is significant at the <.05 level. With 95% confidence, the diffence is between 10 years and 14 years diference in means."
      ]
    },
    {
      "cell_type": "code",
      "metadata": {
        "colab": {
          "base_uri": "https://localhost:8080/",
          "height": 355
        },
        "id": "Bc8TFKUAd_VL",
        "outputId": "e039fb51-5d06-4fc3-f6e8-4117d28e02a0"
      },
      "source": [
        "# Plot a boxplot to see how life expectancy distributed accross status in the year 2000\n",
        "plt.figure(figsize = (11,5))\n",
        "sns.boxplot(x=\"Year\", y=\"Life expectancy \", hue=\"Status\", data=life_df_2000)\n",
        "plt.xlabel('Year')\n",
        "plt.ylabel('Life expectacy ')\n",
        "plt.title('Life expectancy in developing countries versus in developed countries in the year 2000')\n",
        "plt.show()"
      ],
      "execution_count": null,
      "outputs": [
        {
          "output_type": "display_data",
          "data": {
            "image/png": "[encoded data removed]",
            "text/plain": [
              "<Figure size 792x360 with 1 Axes>"
            ]
          },
          "metadata": {
            "needs_background": "light"
          }
        }
      ]
    },
    {
      "cell_type": "markdown",
      "metadata": {
        "id": "DlbSUa7Le7ms"
      },
      "source": [
        "Is there a statistically difference in life expectancy between the population means of the years **2000** versus **2015** ?"
      ]
    },
    {
      "cell_type": "code",
      "metadata": {
        "colab": {
          "base_uri": "https://localhost:8080/"
        },
        "id": "pJSJ-jsJeZoS",
        "outputId": "f741a39a-340c-41b4-bad7-c695d2637b05"
      },
      "source": [
        "life_df_2000_2015 = life_df.query('Year in [2000, 2015]')\n",
        "life_df_2000_2015.shape"
      ],
      "execution_count": null,
      "outputs": [
        {
          "output_type": "execute_result",
          "data": {
            "text/plain": [
              "(366, 22)"
            ]
          },
          "metadata": {},
          "execution_count": 19
        }
      ]
    },
    {
      "cell_type": "code",
      "metadata": {
        "colab": {
          "base_uri": "https://localhost:8080/",
          "height": 302
        },
        "id": "6FVF60yQgTEO",
        "outputId": "ef514ddd-639f-4dbf-d218-49c023b0e88a"
      },
      "source": [
        "# See how Year affects life expectancy\n",
        "sns.lineplot(x= 'Year',y= 'Life expectancy ',data= life_df_2000_2015)"
      ],
      "execution_count": null,
      "outputs": [
        {
          "output_type": "execute_result",
          "data": {
            "text/plain": [
              "<matplotlib.axes._subplots.AxesSubplot at 0x7f0d4e709e10>"
            ]
          },
          "metadata": {},
          "execution_count": 20
        },
        {
          "output_type": "display_data",
          "data": {
            "image/png": "[encoded data removed]",
            "text/plain": [
              "<Figure size 432x288 with 1 Axes>"
            ]
          },
          "metadata": {
            "needs_background": "light"
          }
        }
      ]
    },
    {
      "cell_type": "code",
      "metadata": {
        "colab": {
          "base_uri": "https://localhost:8080/"
        },
        "id": "nIP7ZZTwi9Eq",
        "outputId": "a88cff8c-b0cd-4fe1-c623-446798805b18"
      },
      "source": [
        "# Is there a statistically difference in life expectancy between the population means of the\n",
        "# years 2000 versus 2015 ?\n",
        "\n",
        "\n",
        "# First, let's see what data we have\n",
        "life_df_2000_2015[['Year', 'Life expectancy ']].info()\n"
      ],
      "execution_count": null,
      "outputs": [
        {
          "output_type": "stream",
          "text": [
            "<class 'pandas.core.frame.DataFrame'>\n",
            "Int64Index: 366 entries, 0 to 2937\n",
            "Data columns (total 2 columns):\n",
            " #   Column            Non-Null Count  Dtype  \n",
            "---  ------            --------------  -----  \n",
            " 0   Year              366 non-null    int64  \n",
            " 1   Life expectancy   366 non-null    float64\n",
            "dtypes: float64(1), int64(1)\n",
            "memory usage: 8.6 KB\n"
          ],
          "name": "stdout"
        }
      ]
    },
    {
      "cell_type": "code",
      "metadata": {
        "colab": {
          "base_uri": "https://localhost:8080/"
        },
        "id": "xONehCl5jdgD",
        "outputId": "db478ac7-c264-4b0d-ed54-9a06bc7410f9"
      },
      "source": [
        "life_expectancy_2000 = life_df.iloc[(life_df['Year'] == 2000).values]\n",
        "life_expectancy_2000.info()"
      ],
      "execution_count": null,
      "outputs": [
        {
          "output_type": "stream",
          "text": [
            "<class 'pandas.core.frame.DataFrame'>\n",
            "Int64Index: 183 entries, 15 to 2937\n",
            "Data columns (total 22 columns):\n",
            " #   Column                           Non-Null Count  Dtype  \n",
            "---  ------                           --------------  -----  \n",
            " 0   Country                          183 non-null    object \n",
            " 1   Year                             183 non-null    int64  \n",
            " 2   Status                           183 non-null    object \n",
            " 3   Life expectancy                  183 non-null    float64\n",
            " 4   Adult Mortality                  183 non-null    float64\n",
            " 5   infant deaths                    183 non-null    int64  \n",
            " 6   Alcohol                          182 non-null    float64\n",
            " 7   percentage expenditure           183 non-null    float64\n",
            " 8   Hepatitis B                      85 non-null     float64\n",
            " 9   Measles                          183 non-null    int64  \n",
            " 10   BMI                             181 non-null    float64\n",
            " 11  under-five deaths                183 non-null    int64  \n",
            " 12  Polio                            180 non-null    float64\n",
            " 13  Total expenditure                179 non-null    float64\n",
            " 14  Diphtheria                       180 non-null    float64\n",
            " 15   HIV/AIDS                        183 non-null    float64\n",
            " 16  GDP                              154 non-null    float64\n",
            " 17  Population                       143 non-null    float64\n",
            " 18   thinness  1-19 years            181 non-null    float64\n",
            " 19   thinness 5-9 years              181 non-null    float64\n",
            " 20  Income composition of resources  173 non-null    float64\n",
            " 21  Schooling                        173 non-null    float64\n",
            "dtypes: float64(16), int64(4), object(2)\n",
            "memory usage: 32.9+ KB\n"
          ],
          "name": "stdout"
        }
      ]
    },
    {
      "cell_type": "code",
      "metadata": {
        "colab": {
          "base_uri": "https://localhost:8080/"
        },
        "id": "MP-fRt3Yjk7p",
        "outputId": "96ea2c26-1189-4e53-9da0-fc0f86c56e24"
      },
      "source": [
        "life_expectancy_2015 = life_df.iloc[(life_df['Year'] == 2015).values]\n",
        "life_expectancy_2015.info()"
      ],
      "execution_count": null,
      "outputs": [
        {
          "output_type": "stream",
          "text": [
            "<class 'pandas.core.frame.DataFrame'>\n",
            "Int64Index: 183 entries, 0 to 2922\n",
            "Data columns (total 22 columns):\n",
            " #   Column                           Non-Null Count  Dtype  \n",
            "---  ------                           --------------  -----  \n",
            " 0   Country                          183 non-null    object \n",
            " 1   Year                             183 non-null    int64  \n",
            " 2   Status                           183 non-null    object \n",
            " 3   Life expectancy                  183 non-null    float64\n",
            " 4   Adult Mortality                  183 non-null    float64\n",
            " 5   infant deaths                    183 non-null    int64  \n",
            " 6   Alcohol                          6 non-null      float64\n",
            " 7   percentage expenditure           183 non-null    float64\n",
            " 8   Hepatitis B                      174 non-null    float64\n",
            " 9   Measles                          183 non-null    int64  \n",
            " 10   BMI                             181 non-null    float64\n",
            " 11  under-five deaths                183 non-null    int64  \n",
            " 12  Polio                            183 non-null    float64\n",
            " 13  Total expenditure                2 non-null      float64\n",
            " 14  Diphtheria                       183 non-null    float64\n",
            " 15   HIV/AIDS                        183 non-null    float64\n",
            " 16  GDP                              154 non-null    float64\n",
            " 17  Population                       142 non-null    float64\n",
            " 18   thinness  1-19 years            181 non-null    float64\n",
            " 19   thinness 5-9 years              181 non-null    float64\n",
            " 20  Income composition of resources  173 non-null    float64\n",
            " 21  Schooling                        173 non-null    float64\n",
            "dtypes: float64(16), int64(4), object(2)\n",
            "memory usage: 32.9+ KB\n"
          ],
          "name": "stdout"
        }
      ]
    },
    {
      "cell_type": "code",
      "metadata": {
        "colab": {
          "base_uri": "https://localhost:8080/"
        },
        "id": "e8M9iZrhjwA2",
        "outputId": "7e8d4a56-c6fb-4b30-976f-76df5d8687bc"
      },
      "source": [
        "stats.ttest_ind(life_expectancy_2000['Life expectancy '], life_expectancy_2015['Life expectancy '])"
      ],
      "execution_count": null,
      "outputs": [
        {
          "output_type": "execute_result",
          "data": {
            "text/plain": [
              "Ttest_indResult(statistic=-5.019984676944692, pvalue=8.104123060989446e-07)"
            ]
          },
          "metadata": {},
          "execution_count": 24
        }
      ]
    },
    {
      "cell_type": "markdown",
      "metadata": {
        "id": "jhHVlXvnj9ZX"
      },
      "source": [
        "There is a difference of 5 standard deviations between these two means. But is this just due to random chance, or is that difference significant? The p-value is extremely small, implying that this is a real difference.\n",
        "\n",
        "\n"
      ]
    },
    {
      "cell_type": "code",
      "metadata": {
        "colab": {
          "base_uri": "https://localhost:8080/",
          "height": 35
        },
        "id": "FOBx4wbQj_FI",
        "outputId": "c9ebba39-007c-4c41-ff55-194d07594b5f"
      },
      "source": [
        "# Calculate the sample size, mean, and variance of each sample.\n",
        "# Calculate the standard error and compute the confidence intervals.\n",
        "# DO that bY callng the function get_95_ci that you have created \n",
        "# Early in this project\n",
        "\n",
        "get_95_ci(life_expectancy_2000['Life expectancy '], life_expectancy_2015['Life expectancy '])"
      ],
      "execution_count": null,
      "outputs": [
        {
          "output_type": "execute_result",
          "data": {
            "application/vnd.google.colaboratory.intrinsic+json": {
              "type": "string"
            },
            "text/plain": [
              "'The difference in means at the 95% confidence interval (two-tail) is between 2.966528064555951 and 6.766805268777284.'"
            ]
          },
          "metadata": {},
          "execution_count": 25
        }
      ]
    },
    {
      "cell_type": "markdown",
      "metadata": {
        "id": "7ScyFVP7kVnI"
      },
      "source": [
        "Reject the null that is no difference between the population means. This difference is significant at the <.05 level. With 95% confidence, the diffence is between 3 years and 6.8 years diference in means.\n",
        "\n"
      ]
    },
    {
      "cell_type": "code",
      "metadata": {
        "colab": {
          "base_uri": "https://localhost:8080/",
          "height": 355
        },
        "id": "2GePGMtikf6I",
        "outputId": "07f8a2b1-8884-4efb-ac22-775038800864"
      },
      "source": [
        "# Plot a boxplot to see how life expectancy distributed in the year 2000 versus 2015\n",
        "plt.figure(figsize = (11,5))\n",
        "sns.boxplot(x=\"Year\", y=\"Life expectancy \", data=life_df_2000_2015)\n",
        "plt.xlabel('Year')\n",
        "plt.ylabel('Life expectacy ')\n",
        "plt.title('Life expectancy in the 2000 versus in the year 2015')\n",
        "plt.show()"
      ],
      "execution_count": null,
      "outputs": [
        {
          "output_type": "display_data",
          "data": {
            "image/png": "[encoded data removed]",
            "text/plain": [
              "<Figure size 792x360 with 1 Axes>"
            ]
          },
          "metadata": {
            "needs_background": "light"
          }
        }
      ]
    },
    {
      "cell_type": "markdown",
      "metadata": {
        "id": "rN1Gq-stm5sl"
      },
      "source": [
        "**Section 3: Conclusion**"
      ]
    },
    {
      "cell_type": "markdown",
      "metadata": {
        "id": "BKuR3MEpm4PS"
      },
      "source": [
        "The 2 factors provide a significant difference of the means of life expectancy.\n",
        "Countries that have developed status  have a higher mean life expectancy in the the year 2000 compared to the ones that have developing status and year 2015  have higher mean life expectancy than year 2000.\n",
        "\n",
        "\n",
        "With 95% confidence, the difference is between 10 years and 14 years means for the status of a country. For the year, the difference is between 3 years  and 6.8 years."
      ]
    }
  ]
}